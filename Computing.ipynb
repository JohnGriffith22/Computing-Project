{
 "cells": [
  {
   "cell_type": "markdown",
   "id": "bfb72e28",
   "metadata": {},
   "source": [
    "Computing Project - Monte carlo Simulation of fluids"
   ]
  },
  {
   "cell_type": "code",
   "execution_count": 1,
   "id": "989c2cce",
   "metadata": {},
   "outputs": [],
   "source": [
    "import numpy as np\n",
    "import math\n",
    "import matplotlib.pyplot as plt\n",
    "import json\n",
    "import re"
   ]
  },
  {
   "cell_type": "code",
   "execution_count": null,
   "id": "5d87f92f",
   "metadata": {},
   "outputs": [
    {
     "name": "stdout",
     "output_type": "stream",
     "text": [
      "{'N': 100, 'eta': 0.68, 'sigma': 0.3, 'dim': 2, 'equil_steps': 50000, 'prod_steps': 500000, 'sample_every': 1000, 'tune_every': 1000, 'r_max': 5.0, 'gr_bins': 200, 'lattice': 'square', 'seed': 12345}\n"
     ]
    }
   ],
   "source": [
    "#load config parameters\n",
    "def load_jsonc(path):\n",
    "    with open(path, \"r\", encoding=\"utf-8\") as f:\n",
    "        text = f.read()\n",
    "\n",
    "    # remove // comments\n",
    "    text = re.sub(r\"//.*\", \"\", text)\n",
    "    # remove /* block comments */\n",
    "    text = re.sub(r\"/\\\\*.*?\\\\*/\", \"\", text, flags=re.DOTALL)\n",
    "\n",
    "    return json.loads(text)\n",
    "\n",
    "config = load_jsonc(\"config.jsonc\")\n",
    "print(config)\n"
   ]
  },
  {
   "cell_type": "code",
   "execution_count": null,
   "id": "d9ebbe1c",
   "metadata": {},
   "outputs": [],
   "source": [
    "#Computing box size from N, density, and particle diameter. Maximum particle diameter of 1? Why not define box as sqrt(N)?\n",
    "def sigma_from_eta_2d(N: int, L: float, eta: float) -> float:\n",
    "    \"\"\"\n",
    "    From 2D packing fraction:\n",
    "      eta = N * (pi * sigma^2 / 4) / L^2\n",
    "      -> sigma = 2 L sqrt(eta / (N pi))\n",
    "    \"\"\"\n",
    "    return 2.0 * L * math.sqrt(eta / (N * math.pi))"
   ]
  },
  {
   "cell_type": "code",
   "execution_count": null,
   "id": "7ac9a69c",
   "metadata": {},
   "outputs": [],
   "source": []
  }
 ],
 "metadata": {
  "kernelspec": {
   "display_name": "base",
   "language": "python",
   "name": "python3"
  },
  "language_info": {
   "codemirror_mode": {
    "name": "ipython",
    "version": 3
   },
   "file_extension": ".py",
   "mimetype": "text/x-python",
   "name": "python",
   "nbconvert_exporter": "python",
   "pygments_lexer": "ipython3",
   "version": "3.13.5"
  }
 },
 "nbformat": 4,
 "nbformat_minor": 5
}
