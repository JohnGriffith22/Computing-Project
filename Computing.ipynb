{
 "cells": [
  {
   "cell_type": "markdown",
   "id": "bfb72e28",
   "metadata": {},
   "source": [
    "Computing Project - Monte carlo Simulation of fluids"
   ]
  },
  {
   "cell_type": "code",
   "execution_count": 30,
   "id": "989c2cce",
   "metadata": {},
   "outputs": [],
   "source": [
    "import numpy as np\n",
    "import math\n",
    "import matplotlib.pyplot as plt\n",
    "import json\n",
    "import re"
   ]
  },
  {
   "cell_type": "code",
   "execution_count": 31,
   "id": "5d87f92f",
   "metadata": {},
   "outputs": [
    {
     "name": "stdout",
     "output_type": "stream",
     "text": [
      "{'N': 100, 'eta': 0.68, 'L': 100, 'dim': 2, 'equil_steps': 50000, 'prod_steps': 500000, 'sample_every': 1000, 'tune_every': 1000, 'r_max': 5.0, 'gr_bins': 200, 'lattice': 'square', 'seed': 12345}\n"
     ]
    }
   ],
   "source": [
    "#load config parameters\n",
    "def load_jsonc(path):\n",
    "    with open(path, \"r\", encoding=\"utf-8\") as f:\n",
    "        text = f.read()\n",
    "\n",
    "    # remove // comments\n",
    "    text = re.sub(r\"//.*\", \"\", text)\n",
    "    # remove /* block comments */\n",
    "    text = re.sub(r\"/\\\\*.*?\\\\*/\", \"\", text, flags=re.DOTALL)\n",
    "\n",
    "    return json.loads(text)\n",
    "\n",
    "config = load_jsonc(\"config.jsonc\")\n",
    "N   = config[\"N\"]\n",
    "L   = config[\"L\"]\n",
    "eta = config[\"eta\"]\n",
    "\n",
    "\n",
    "print(config)\n"
   ]
  },
  {
   "cell_type": "code",
   "execution_count": 32,
   "id": "d9ebbe1c",
   "metadata": {},
   "outputs": [],
   "source": [
    "#Computing box size from N, density, and particle diameter. Maximum particle diameter of 1? Why not define box as sqrt(N)?\n",
    "def sigma_from_eta_2d(N: int, L: float, eta: float) -> float:\n",
    "    \"\"\"\n",
    "    From 2D packing fraction:\n",
    "      eta = N * (pi * sigma^2 / 4) / L^2\n",
    "      -> sigma = 2 L sqrt(eta / (N pi))\n",
    "    \"\"\"\n",
    "    return 2.0 * L * math.sqrt(eta / (N * math.pi))"
   ]
  },
  {
   "cell_type": "code",
   "execution_count": 33,
   "id": "7ac9a69c",
   "metadata": {},
   "outputs": [],
   "source": [
    "def balanced_grid_shape_2d(N: int) -> tuple[int, int]:\n",
    "    \"\"\"\n",
    "    Choose an integer grid (nx, ny) with nx*ny >= N and as close to square as possible.\n",
    "    \"\"\"\n",
    "    n = math.ceil(math.sqrt(N))\n",
    "    return n, n  # simple and near-optimal for most N"
   ]
  },
  {
   "cell_type": "code",
   "execution_count": 34,
   "id": "7874e754",
   "metadata": {},
   "outputs": [],
   "source": [
    "def square_lattice_positions_2d(N: int, L: float) -> tuple[np.ndarray, tuple[float, float]]:\n",
    "    \"\"\"\n",
    "    Return (N, 2) positions on a square grid, cell-centered so all disks lie fully inside [0, L]^2.\n",
    "    Also return the spacings (ax, ay) between neighboring centers.\n",
    "    \"\"\"\n",
    "    nx, ny = balanced_grid_shape_2d(N)\n",
    "    ax, ay = L / nx, L / ny\n",
    "    coords = []\n",
    "    for j in range(ny):\n",
    "        y = (j + 0.5) * ay\n",
    "        for i in range(nx):\n",
    "            x = (i + 0.5) * ax\n",
    "            coords.append((x, y))\n",
    "    return np.array(coords[:N], dtype=float), (ax, ay)"
   ]
  },
  {
   "cell_type": "code",
   "execution_count": 35,
   "id": "c1c31d71",
   "metadata": {},
   "outputs": [],
   "source": [
    "def initialize_cubic_lattice_2d(N: int, L: float, eta: float):\n",
    "    \"\"\"\n",
    "    Initialize N particles on a 2D cubic (square) lattice in a fixed box of side L.\n",
    "    Particle diameter sigma is determined by the packing fraction eta.\n",
    "    Ensures no overlaps (spacing >= sigma). Returns (positions, sigma, eta_actual, (ax, ay)).\n",
    "    \"\"\"\n",
    "    # 1) derive particle size from (N, L, eta)\n",
    "    sigma = sigma_from_eta_2d(N, L, eta)\n",
    "\n",
    "    # 2) place on a cell-centered square grid\n",
    "    positions, (ax, ay) = square_lattice_positions_2d(N, L)\n",
    "\n",
    "    # 3) feasibility: minimal center spacing must be >= sigma\n",
    "    a_min = min(ax, ay)\n",
    "    if a_min < sigma - 1e-12:\n",
    "        # Maximum feasible eta with this grid (touching, sigma=a_min):\n",
    "        eta_max_touching = (N * math.pi * (a_min**2) / 4.0) / (L**2)\n",
    "        raise ValueError(\n",
    "            f\"Infeasible: target η={eta:.6g} ⇒ σ={sigma:.6g}, but grid spacing a_min={a_min:.6g} < σ (overlap).\\n\"\n",
    "            f\"Lower η to ≤ ~{eta_max_touching:.6g}, increase L, or reduce N.\"\n",
    "        )\n",
    "\n",
    "    # 4) actual eta (equals requested eta by construction)\n",
    "    eta_actual = (N * math.pi * sigma**2 / 4.0) / (L**2)\n",
    "    return positions, sigma, eta_actual, (ax, ay)"
   ]
  },
  {
   "cell_type": "code",
   "execution_count": 36,
   "id": "bd88da41",
   "metadata": {},
   "outputs": [],
   "source": [
    "positions, sigma, eta_actual, spacings = initialize_cubic_lattice_2d(N, L, eta)"
   ]
  },
  {
   "cell_type": "code",
   "execution_count": 37,
   "id": "2e8b44de",
   "metadata": {},
   "outputs": [
    {
     "name": "stdout",
     "output_type": "stream",
     "text": [
      "Loaded from config:\n",
      "N   = 100\n",
      "L   = 100\n",
      "eta = 0.68\n",
      "\n",
      "Computed:\n",
      "sigma = 9.304852983362556\n",
      "actual packing = 0.68\n",
      "grid spacing = (10.0, 10.0)\n",
      "\n",
      "First 5 particles:\n",
      " [[ 5.  5.]\n",
      " [15.  5.]\n",
      " [25.  5.]\n",
      " [35.  5.]\n",
      " [45.  5.]]\n"
     ]
    }
   ],
   "source": [
    "print(\"Loaded from config:\")\n",
    "print(f\"N   = {N}\")\n",
    "print(f\"L   = {L}\")\n",
    "print(f\"eta = {eta}\")\n",
    "\n",
    "print(\"\\nComputed:\")\n",
    "print(f\"sigma = {sigma}\")\n",
    "print(f\"actual packing = {eta_actual}\")\n",
    "print(f\"grid spacing = {spacings}\")\n",
    "\n",
    "print(\"\\nFirst 5 particles:\\n\", positions[:5])"
   ]
  },
  {
   "cell_type": "code",
   "execution_count": 38,
   "id": "d4141abf",
   "metadata": {},
   "outputs": [],
   "source": [
    "def plot_disks_LxL(positions: np.ndarray, L: float, sigma: float, title: str = \"\"):\n",
    "    fig, ax = plt.subplots(figsize=(6, 6))\n",
    "    ax.set_aspect(\"equal\")\n",
    "    ax.set_xlim(0, L)\n",
    "    ax.set_ylim(0, L)\n",
    "    ax.set_xticks([]); ax.set_yticks([])\n",
    "    ax.set_position([0, 0, 1, 1])  # remove all margins\n",
    "    if title:\n",
    "        ax.set_title(title, pad=8)\n",
    "\n",
    "    # draw disks fully inside box\n",
    "    r = sigma / 2.0\n",
    "    for (x, y) in positions:\n",
    "        ax.add_patch(plt.Circle((x, y), r, fc=\"navy\", ec=\"black\", lw=0.6))\n",
    "\n",
    "    # box outline\n",
    "    ax.plot([0, L, L, 0, 0], [0, 0, L, L, 0], \"k-\", lw=1)\n",
    "    plt.show()"
   ]
  },
  {
   "cell_type": "code",
   "execution_count": 39,
   "id": "f125860c",
   "metadata": {},
   "outputs": [
    {
     "data": {
      "image/png": "[encoded data removed]",
      "text/plain": [
       "<Figure size 600x600 with 1 Axes>"
      ]
     },
     "metadata": {},
     "output_type": "display_data"
    }
   ],
   "source": [
    "plot_disks_LxL(\n",
    "        positions,\n",
    "        L,\n",
    "        sigma,\n",
    "        title=f\"Cubic (square) lattice — N={N}, η={eta}, L={L}\"\n",
    "    )"
   ]
  },
  {
   "cell_type": "code",
   "execution_count": null,
   "id": "3e29d530",
   "metadata": {},
   "outputs": [],
   "source": [
    "def random_jiggle(positions, max_step, seed=None):\n",
    "    \"\"\"\n",
    "    Return a new array where each particle is displaced by a random vector\n",
    "    with components in [-max_step, +max_step]. No boundary handling.\n",
    "    \"\"\"\n",
    "    rng = np.random.default_rng(seed)\n",
    "    disp = rng.uniform(-max_step, max_step, size=positions.shape)\n",
    "    return positions + disp"
   ]
  },
  {
   "cell_type": "code",
   "execution_count": null,
   "id": "9ef7d11c",
   "metadata": {},
   "outputs": [],
   "source": [
    "def plot_disks_LxL2(positions, L, sigma, title=\"\"):\n",
    "    fig, ax = plt.subplots(figsize=(6, 6))\n",
    "    ax.set_aspect(\"equal\")\n",
    "    ax.set_xlim(0, L)\n",
    "    ax.set_ylim(0, L)\n",
    "    ax.set_xticks([]); ax.set_yticks([])\n",
    "    ax.set_position([0, 0, 1, 1])\n",
    "    if title: ax.set_title(title, pad=8)\n",
    "    r = sigma / 2.0\n",
    "    for (x, y) in positions:\n",
    "        ax.add_patch(plt.Circle((x, y), r, fc=\"navy\", ec=\"white\", lw=0.6))\n",
    "    ax.plot([0, L, L, 0, 0], [0, 0, L, L, 0], \"k-\", lw=1)\n",
    "    plt.show()"
   ]
  },
  {
   "cell_type": "code",
   "execution_count": null,
   "id": "088f7e2e",
   "metadata": {},
   "outputs": [],
   "source": [
    "max_step = 0.1 * min(spacings)   # e.g., 10% of grid spacing (nice small jiggle)\n",
    "new_positions = random_jiggle(positions, max_step, seed=42)\n",
    "\n",
    "plot_disks_LxL(positions, L, sigma, title=\"Original\")\n",
    "plot_disks_LxL(new_positions, L, sigma, title=\"Randomly jiggled (no borders/overlaps)\")"
   ]
  }
 ],
 "metadata": {
  "kernelspec": {
   "display_name": "base",
   "language": "python",
   "name": "python3"
  },
  "language_info": {
   "codemirror_mode": {
    "name": "ipython",
    "version": 3
   },
   "file_extension": ".py",
   "mimetype": "text/x-python",
   "name": "python",
   "nbconvert_exporter": "python",
   "pygments_lexer": "ipython3",
   "version": "3.13.5"
  }
 },
 "nbformat": 4,
 "nbformat_minor": 5
}
